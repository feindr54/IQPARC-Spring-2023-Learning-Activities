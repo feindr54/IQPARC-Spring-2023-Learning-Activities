{
 "cells": [
  {
   "cell_type": "markdown",
   "metadata": {},
   "source": [
    "# Problem Set - [Quantum Circuit](https://qiskit.org/documentation/stubs/qiskit.circuit.QuantumCircuit.html)\n",
    "The goal of this problem set is to learn how to setup your own quantum circuit. This is the first step to quantum computing. Later on, we will learn how to apply various transformation and gates to the circuit."
   ]
  },
  {
   "cell_type": "markdown",
   "metadata": {},
   "source": [
    "### Before you start\n",
    "It's important to note that Qiskit is an open source SDK based in python. This means we need to install both python and Qiskit to run the code. First let's check if you have Qiskit and IPython Kernel for Jupyter installed."
   ]
  },
  {
   "cell_type": "code",
   "execution_count": null,
   "metadata": {},
   "outputs": [],
   "source": [
    "pip install ipykernel"
   ]
  },
  {
   "cell_type": "code",
   "execution_count": null,
   "metadata": {},
   "outputs": [],
   "source": [
    "pip install qiskit"
   ]
  },
  {
   "cell_type": "markdown",
   "metadata": {},
   "source": [
    "### Import Qiskit\n",
    "Every time we want to use the Qiskit library, it's important to first import it. This is done by running the following code:\n",
    "\n",
    "```from qiskit import *```"
   ]
  },
  {
   "cell_type": "markdown",
   "metadata": {},
   "source": [
    "### Problem 1: Import Qiskit\n",
    "For this problem, import Qiskit in the cell below.\n",
    "\n",
    "<br>Input: none\n",
    "<br>Output: none"
   ]
  },
  {
   "cell_type": "code",
   "execution_count": 8,
   "metadata": {},
   "outputs": [],
   "source": [
    "# Import the necessary libraries here\n",
    "from qiskit import *"
   ]
  },
  {
   "cell_type": "markdown",
   "metadata": {},
   "source": [
    "### Demo 1: Create a Quantum Circuit\n",
    "Now that we have Qiskit imported, let's create our first quantum circuit. We will create a quantum circuit with 2 qubits in [quantum register](https://qiskit.org/documentation/stubs/qiskit.circuit.QuantumRegister.html) and 2 classical bits in [classical register](https://qiskit.org/documentation/stubs/qiskit.circuit.ClassicalRegister.html). A classical Bit is just 0 or 1, with no inherent meaning. As for a qubit, we will get there in a bit."
   ]
  },
  {
   "cell_type": "code",
   "execution_count": null,
   "metadata": {},
   "outputs": [],
   "source": [
    "qubit = QuantumRegister(2)\n",
    "# This is a quantum register with 2 qubits\n",
    "# A register is a collection of qubits or bits\n",
    "\n",
    "cbit = ClassicalRegister(2)\n",
    "# This is a classical register with 2 classical bits\n",
    "\n",
    "circuit = QuantumCircuit(qubit, cbit)\n",
    "# This is a quantum circuit with 2 qubits and 2 classical bits\n",
    "# You can also use the shorthand notation: QuantumCircuit(2, 2)\n",
    "\n",
    "# Let's draw this circuit so we can see what it looks like\n",
    "circuit.draw()"
   ]
  },
  {
   "cell_type": "markdown",
   "metadata": {},
   "source": [
    "Of course, the circuit looks empty right now because we have not done anything with it yet. We will learn how to do that in a later problem."
   ]
  },
  {
   "cell_type": "markdown",
   "metadata": {},
   "source": [
    "### Problem 2: Create a Quantum Circuit\n",
    "For this problem, create a quantum circuit with 4 qubits and 4 classical bits.\n",
    "\n",
    "<br>Input: none\n",
    "<br>Output: Quantum Circuit object with 4 qubits and 4 classical bits"
   ]
  },
  {
   "cell_type": "code",
   "execution_count": 8,
   "metadata": {},
   "outputs": [],
   "source": [
    "def createCircuit():\n",
    "    # TODO: Create a quantum circuit with 4 qubits and 4 classical bits\n",
    "\n",
    "    # Remember to return the quantum Circuit object"
   ]
  },
  {
   "cell_type": "markdown",
   "metadata": {},
   "source": [
    "### Use the following code block to check your implementation"
   ]
  },
  {
   "cell_type": "code",
   "execution_count": null,
   "metadata": {},
   "outputs": [],
   "source": [
    "def testCircuit():\n",
    "    qc = createCircuit()\n",
    "    if(qc.qregs[0].size == 4 and qc.cregs[0].size == 4):\n",
    "        print(\"Your circuit looks good!\")\n",
    "    else:\n",
    "        print(\"Your circuit is not correct. Please try again.\")\n",
    "\n",
    "testCircuit()"
   ]
  },
  {
   "cell_type": "markdown",
   "metadata": {},
   "source": [
    "### Demo 2: Initialize a Quantum Circuit\n",
    "Now that we have created a quantum circuit, let's initialize it. Sometimes we want the qubits to start off in a certain state. Qubits by default start off in the state |0>. We can initialize the qubits to a different state by applying a [initialize](https://qiskit.org/documentation/stubs/qiskit.extensions.Initialize.html) gate. This gate takes in a list of complex numbers and applies the corresponding unitary transformation to the qubits. For example, if we want to initialize the qubits to the state |1>, we can do so by applying the following code:"
   ]
  },
  {
   "cell_type": "code",
   "execution_count": null,
   "metadata": {},
   "outputs": [],
   "source": [
    "# For this example, we will not use any classical bits\n",
    "qubit = QuantumRegister(1)\n",
    "circuit = QuantumCircuit(qubit)\n",
    "\n",
    "# Initialize the qubit to the state |1>\n",
    "circuit.initialize('1', qubit)\n",
    "\n",
    "# Draw the circuit\n",
    "circuit.draw()"
   ]
  },
  {
   "cell_type": "markdown",
   "metadata": {},
   "source": [
    "### Problem 3: Initialize a Quantum Circuit\n",
    "For this problem, initialize 4 qubits to the state |1>, |0>, |0>, |1>. Note: you will not need any classical bits for this problem. Please note that you can also initialize the qubits in other various states such as |+>, |->, |i>, |-i>, etc. We will learn what they mean and how to use them in the future.\n",
    "\n",
    "<br>Input: None\n",
    "<br>Output: Quantum Circuit object with 4 qubits in the state 1001"
   ]
  },
  {
   "cell_type": "code",
   "execution_count": 34,
   "metadata": {},
   "outputs": [],
   "source": [
    "def initializeQubit():\n",
    "    # TODO: Create a quantum circuit with 4 qubits\n",
    "\n",
    "    # TODO: Initialize the first qubit to the state 1001\n",
    "\n",
    "    # TODO: Return the circuit"
   ]
  },
  {
   "cell_type": "markdown",
   "metadata": {},
   "source": [
    "### Use the following code block to check your implementation"
   ]
  },
  {
   "cell_type": "code",
   "execution_count": null,
   "metadata": {},
   "outputs": [],
   "source": [
    "def testInitializeQubit():\n",
    "    qc = initializeQubit()\n",
    "    c = ClassicalRegister(4)\n",
    "    qc.add_register(c)\n",
    "    qc.measure(qc.qregs[0], qc.cregs[0])\n",
    "    backend = BasicAer.get_backend('qasm_simulator')\n",
    "    job = execute(qc, backend, shots=1024)\n",
    "    result = job.result()\n",
    "    counts = result.get_counts(qc)\n",
    "    try:\n",
    "        if (counts['1001'] == 1024):\n",
    "            print(\"Your circuit looks good!\")\n",
    "        else:\n",
    "            print(\"Your circuit is not correct. Please try again.\")\n",
    "    except:\n",
    "        print(\"Your circuit is not correct. Please try again.\")\n",
    "\n",
    "testInitializeQubit()"
   ]
  },
  {
   "cell_type": "markdown",
   "metadata": {},
   "source": [
    "### Demo 3: Circuit Simulation\n",
    "Now that we have created a quantum circuit, let's simulate it. We can simulate the circuit by applying the [execute](https://qiskit.org/documentation/stubs/qiskit.execute.html) function. This function takes in a quantum circuit and a backend. The backend is the device that we want to simulate the circuit on. For now, we will use the [statevector_simulator](https://qiskit.org/documentation/stubs/qiskit.providers.aer.AerSimulator.html) backend. This backend simulates the circuit on a quantum computer with infinite qubits. This is useful for testing our circuits before we run them on a real quantum computer. Remember those classical bits? We can use them to store the results of the simulation. We can do so by applying the [measure](https://qiskit.org/documentation/stubs/qiskit.circuit.QuantumCircuit.measure.html) function. This function takes in a quantum register and a classical register. It then applies a measurement to the quantum register and stores the result in the classical register. We can then use the [get_counts](https://qiskit.org/documentation/stubs/qiskit.result.Result.get_counts.html) function to get the counts of the simulation. This function takes in a result object and returns a dictionary with the counts of the simulation. For example, if we run the following code:"
   ]
  },
  {
   "cell_type": "code",
   "execution_count": null,
   "metadata": {},
   "outputs": [],
   "source": [
    "# Initialize the quantum circuit with 2 qubits and 2 classical bits\n",
    "qubit = QuantumRegister(2)\n",
    "cbit = ClassicalRegister(2)\n",
    "circuit = QuantumCircuit(qubit, cbit)\n",
    "\n",
    "# Measure the qubits and store the result in the classical bits\n",
    "circuit.measure(qubit, cbit)\n",
    "\n",
    "# Initialize backend and run the circuit\n",
    "backend = Aer.get_backend('qasm_simulator')\n",
    "\n",
    "# Execute the circuit on the qasm simulator\n",
    "# The shot number is the number of times the circuit is run\n",
    "job = execute(circuit, backend, shots=1000)\n",
    "\n",
    "# Grab the results from the job\n",
    "result = job.result()\n",
    "\n",
    "# Returns counts\n",
    "counts = result.get_counts(circuit)\n",
    "\n",
    "# Print the results\n",
    "print(counts)"
   ]
  },
  {
   "cell_type": "markdown",
   "metadata": {},
   "source": [
    "Since we have 2 qubits initialized in the state |0>, we expect the result to be 00 with a probability of 1000/1000."
   ]
  },
  {
   "cell_type": "markdown",
   "metadata": {},
   "source": [
    "### Problem 4: Circuit Simulation\n",
    "For this problem, simulate the circuit you created in problem 3. Store the results in a dictionary called counts and return it.\n",
    "\n",
    "<br>Input: None\n",
    "<br>Output: Dictionary with the counts of the simulation"
   ]
  },
  {
   "cell_type": "code",
   "execution_count": 56,
   "metadata": {},
   "outputs": [],
   "source": [
    "def circuitSimulation():\n",
    "    # TODO: Create a quantum circuit with 4 qubits\n",
    "\n",
    "    # TODO: Initialize the first qubit to the state 1001\n",
    "\n",
    "    # TODO: Measure the qubits and store the result in the classical bits\n",
    "\n",
    "    # TODO: Simulate the circuit 1000 times\n",
    "\n",
    "    # TODO: Return the counts"
   ]
  },
  {
   "cell_type": "markdown",
   "metadata": {},
   "source": [
    "### Use the following code block to check your implementation   "
   ]
  },
  {
   "cell_type": "code",
   "execution_count": null,
   "metadata": {},
   "outputs": [],
   "source": [
    "def testCircuitSimulation():\n",
    "    try:\n",
    "        counts = circuitSimulation()\n",
    "        if (counts['1001'] == 1000):\n",
    "            print(\"Your circuit looks good!\")\n",
    "        else:\n",
    "            print(\"Your circuit is not correct. Please try again.\")\n",
    "    except:\n",
    "        print(\"Your circuit is not correct. Please try again.\")\n",
    "\n",
    "testCircuitSimulation()"
   ]
  },
  {
   "cell_type": "markdown",
   "metadata": {},
   "source": [
    "### Demo 4: Circuit Visualization\n",
    "Sometimes we need to look at our circuit to make sure it is correct. We can do so by applying the [draw](https://qiskit.org/documentation/stubs/qiskit.circuit.QuantumCircuit.draw.html) function. This function takes in a quantum circuit and returns a visualization of the circuit. We can also use the [plot_histogram](https://qiskit.org/documentation/stubs/qiskit.visualization.plot_histogram.html) function to plot the results of the simulation. This function takes in a dictionary with the counts of the simulation and returns a histogram of the results."
   ]
  },
  {
   "cell_type": "markdown",
   "metadata": {},
   "source": [
    "### Run the following code block to see the visualization of a sample circuit"
   ]
  },
  {
   "cell_type": "code",
   "execution_count": null,
   "metadata": {},
   "outputs": [],
   "source": [
    "# Initialize the quantum circuit with 2 qubits\n",
    "qubit = QuantumRegister(3)\n",
    "cbit = ClassicalRegister(3)\n",
    "circuit = QuantumCircuit(qubit, cbit)\n",
    "\n",
    "# Apply various gates to the qubits\n",
    "# Don't worry about these gates for now\n",
    "circuit.h(qubit[0])\n",
    "circuit.cnot(qubit[0], qubit[1])\n",
    "circuit.cnot(qubit[1], qubit[2])\n",
    "\n",
    "# Measure the qubits and store the result in the classical bits\n",
    "circuit.measure(qubit, cbit)\n",
    "\n",
    "# Draw the circuit\n",
    "circuit.draw()"
   ]
  },
  {
   "cell_type": "markdown",
   "metadata": {},
   "source": [
    "### Run the following code block to see the visualization of a sample output of the simulation"
   ]
  },
  {
   "cell_type": "code",
   "execution_count": null,
   "metadata": {},
   "outputs": [],
   "source": [
    "from qiskit.visualization import plot_histogram\n",
    "\n",
    "# Initialize the quantum circuit with 2 qubits\n",
    "qubit = QuantumRegister(3)\n",
    "cbit = ClassicalRegister(3)\n",
    "circuit = QuantumCircuit(qubit, cbit)\n",
    "\n",
    "# Apply various gates to the qubits\n",
    "# Don't worry about these gates for now\n",
    "circuit.h(qubit[0])\n",
    "circuit.cnot(qubit[0], qubit[1])\n",
    "circuit.cnot(qubit[1], qubit[2])\n",
    "\n",
    "# Measure the qubits and store the result in the classical bits\n",
    "circuit.measure(qubit, cbit)\n",
    "\n",
    "backend = Aer.get_backend('statevector_simulator')\n",
    "job = execute(circuit, backend, shots=1000)\n",
    "result = job.result()\n",
    "counts = result.get_counts()\n",
    "plot_histogram(counts)"
   ]
  }
 ],
 "metadata": {
  "kernelspec": {
   "display_name": "Python 3",
   "language": "python",
   "name": "python3"
  },
  "language_info": {
   "codemirror_mode": {
    "name": "ipython",
    "version": 3
   },
   "file_extension": ".py",
   "mimetype": "text/x-python",
   "name": "python",
   "nbconvert_exporter": "python",
   "pygments_lexer": "ipython3",
   "version": "3.8.8"
  },
  "vscode": {
   "interpreter": {
    "hash": "9dfd9ebe24fa0969d7ef00f868bd8f73af66f69d5ca5032d10e37f729c9dd31d"
   }
  }
 },
 "nbformat": 4,
 "nbformat_minor": 2
}
