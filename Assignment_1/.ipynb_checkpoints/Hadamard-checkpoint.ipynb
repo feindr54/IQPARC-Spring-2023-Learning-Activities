{
 "cells": [
  {
   "cell_type": "markdown",
   "metadata": {},
   "source": [
    "# Problem Set - Hadamard Gate\n",
    "This is one of the most important single qubit gate in quantum computing, so important that it gets its own notebook. The Hadamard gate is a single qubit gate that maps the computational basis states to the equal superposition of the computational basis states. It is a unitary gate, and is represented by the matrix:\n",
    "$$H = \\frac{1}{\\sqrt{2}} \\begin{bmatrix} 1 & 1 \\\\ 1 & -1 \\end{bmatrix}$$\n",
    "It will allow us to move away from the states $|0\\rangle$ and $|1\\rangle$ and into the superposition states $|\\psi\\rangle = \\frac{1}{\\sqrt{2}}(|0\\rangle + |1\\rangle)$ and $|\\phi\\rangle = \\frac{1}{\\sqrt{2}}(|0\\rangle - |1\\rangle)$."
   ]
  },
  {
   "cell_type": "markdown",
   "metadata": {},
   "source": [
    "### Demo 1 - Hadamard Gate\n",
    "Alright now in English, the Hadamard gate takes a qubit and puts it into a superposition. Let's see this in action."
   ]
  },
  {
   "cell_type": "code",
   "execution_count": 1,
   "metadata": {},
   "outputs": [
    {
     "data": {
      "image/png": "[encoded data removed]",
      "text/plain": [
       "<Figure size 504x360 with 1 Axes>"
      ]
     },
     "execution_count": 1,
     "metadata": {},
     "output_type": "execute_result"
    }
   ],
   "source": [
    "### Import libraries, the lazy way\n",
    "from qiskit import *\n",
    "from qiskit.visualization import plot_histogram\n",
    "\n",
    "### Create a quantum circuit with 1 qubit and 1 classical bit\n",
    "qubit = QuantumRegister(1)\n",
    "bit = ClassicalRegister(1)\n",
    "qc = QuantumCircuit(qubit, bit)\n",
    "\n",
    "### Apply a Hadamard gate to the qubit\n",
    "qc.h(qubit[0])\n",
    "qc.h(qubit[0])\n",
    "\n",
    "### Measure the qubit\n",
    "qc.measure(qubit, bit)\n",
    "\n",
    "### Run the simulation\n",
    "backend = Aer.get_backend('qasm_simulator')\n",
    "job = execute(qc, backend, shots=1000)\n",
    "result = job.result()\n",
    "counts = result.get_counts(qc)\n",
    "plot_histogram(counts)"
   ]
  },
  {
   "cell_type": "markdown",
   "metadata": {},
   "source": [
    "### Remark:\n",
    "As you can see, the Hadamard gate takes the state $|0\\rangle$ and puts it into the equal superposition of the states $|0\\rangle$ and $|1\\rangle$. This is the same as the state $|\\psi\\rangle = \\frac{1}{\\sqrt{2}}(|0\\rangle + |1\\rangle)$. **In English this means that it will have a 50% chance to measure $|0\\rangle$ and a 50% chance to measure $|1\\rangle$.** This is the same as the state $|\\phi\\rangle = \\frac{1}{\\sqrt{2}}(|0\\rangle - |1\\rangle)$.\n",
    "\n",
    "Remember that the Hadamard gate is a unitary gate, so it is **reversible**. This means that if we apply the Hadamard gate twice, we will get back to the original state. This is a very important property of the Hadamard gate."
   ]
  },
  {
   "cell_type": "markdown",
   "metadata": {},
   "source": [
    "### Problem 1: Random Number Generator\n",
    "The Hadamard gate has the ability to put a qubit into superposition where it has 50% chance to collapse *(some people don't like this term)* to $|0\\rangle$ and 50% chance to collapse to $|1\\rangle$. This is a very useful property, and we can use it to create a random number generator. The idea is that we will apply the Hadamard gate to many qubits, and then measure them. The result will be a random binary number.\n",
    "\n",
    "<br>Input: None\n",
    "<br>Output: A circuit that applies the Hadamard gate to 8 qubits and then measures them to a counts dictionary. **PLEASE USE 1 SHOT FOR YOUR SIMULATION**"
   ]
  },
  {
   "cell_type": "code",
   "execution_count": 16,
   "metadata": {},
   "outputs": [],
   "source": [
    "### TODO\n",
    "### Import libraries\n",
    "from qiskit import *\n",
    "from qiskit.visualization import plot_histogram\n",
    "\n",
    "def randomNumberGenerator():\n",
    "    # TODO\n",
    "    # Create a quantum circuit with 8 qubit and 8 classical bit\n",
    "    qubits = QuantumRegister(8)\n",
    "    bits = ClassicalRegister(8)\n",
    "    circuit = QuantumCircuit(qubits, bits)\n",
    "    # Apply a Hadamard gate to the qubits\n",
    "    for i in range(0,8):\n",
    "        circuit.h(qubits[i])\n",
    "    # Measure the qubit\n",
    "    circuit.measure(qubits,bits)\n",
    "    # Run the simulation\n",
    "    backend=Aer.get_backend(\"qasm_simulator\")\n",
    "    job = execute(circuit, backend, shots=100)\n",
    "    result = job.result()\n",
    "    count = result.get_counts(circuit)\n",
    "    plot_histogram(count)\n",
    "    # Return the result\n",
    "    return count"
   ]
  },
  {
   "cell_type": "markdown",
   "metadata": {},
   "source": [
    "### Use the following code block to check your implementation and visualize the Bloch Sphere"
   ]
  },
  {
   "cell_type": "code",
   "execution_count": 19,
   "metadata": {},
   "outputs": [
    {
     "name": "stdout",
     "output_type": "stream",
     "text": [
      "Your binary number is: {'01110111': 1, '01001011': 1, '00111100': 1, '00100100': 2, '10111000': 1, '00011010': 1, '00001000': 2, '00110000': 1, '01000001': 1, '11011010': 2, '01010010': 2, '01111001': 1, '10101100': 1, '01111000': 1, '01001000': 2, '00010110': 1, '01101100': 2, '00111010': 2, '10100100': 1, '10001100': 2, '11001100': 1, '00101101': 2, '01110010': 1, '10010000': 1, '11000110': 2, '00111111': 1, '00100001': 1, '10100010': 2, '01011001': 1, '01001001': 1, '00111000': 1, '00110101': 1, '00000010': 1, '01011011': 2, '10000101': 1, '00111101': 1, '00100011': 1, '01111100': 1, '01000110': 1, '11100101': 1, '00000000': 1, '00101100': 2, '00000011': 1, '01101111': 2, '11011000': 1, '11001001': 1, '10010011': 1, '00011011': 1, '10111101': 1, '00100101': 2, '01110110': 1, '01100001': 1, '11110001': 2, '00010100': 1, '00101000': 1, '10110011': 1, '11101110': 1, '11000111': 1, '01100101': 1, '10100101': 1, '00001001': 1, '10101110': 2, '01101101': 1, '00010010': 1, '01010110': 1, '00110110': 1, '10011101': 1, '01111111': 1, '01011010': 1, '10110100': 1, '01011100': 1, '11100100': 1, '10001111': 1, '11010000': 1, '11010111': 1, '00100111': 2, '10101111': 1, '00011110': 1, '00001101': 1, '10111001': 1, '00000100': 1, '10010010': 1}\n",
      "Your decimal number is: 119\n"
     ]
    }
   ],
   "source": [
    "def randomNumberGeneratorCheck():\n",
    "    counts = randomNumberGenerator()\n",
    "    try:\n",
    "        if len(list(counts.keys())[0]) != 8:\n",
    "            raise Exception(\"Error\")\n",
    "        number = int(list(counts.keys())[0], 2)\n",
    "        print(\"Your binary number is: \" + str(counts))\n",
    "        print(\"Your decimal number is: \" + str(number))\n",
    "    except:\n",
    "        print(\"Error\")\n",
    "randomNumberGeneratorCheck()"
   ]
  },
  {
   "cell_type": "markdown",
   "metadata": {},
   "source": [
    "### Problem 2: X Gate Revisited\n",
    "Did you know, the Pauli X gate can be reproduced using a combination of two Hadamard gate and one Pauli Z gate in a certain order? Try to figure out the order and implement it in the following code block.\n",
    "\n",
    "<br>Input: circuit containing 1 qubit in the state vector $|1\\rangle$\n",
    "<br>Output: A circuit that contains 1 qubit in the state vector $|0\\rangle$"
   ]
  },
  {
   "cell_type": "code",
   "execution_count": 20,
   "metadata": {},
   "outputs": [],
   "source": [
    "def xGate(circuit):\n",
    "    # TODO\n",
    "    # Apply gates to the qubit\n",
    "    # Apply H, then Z, then H\n",
    "    circuit.h(0)\n",
    "    circuit.z(0)\n",
    "    circuit.h(0)\n",
    "    # return the circuit\n",
    "    return circuit"
   ]
  },
  {
   "cell_type": "markdown",
   "metadata": {},
   "source": [
    "### Use the following code block to check your implementation"
   ]
  },
  {
   "cell_type": "code",
   "execution_count": 21,
   "metadata": {},
   "outputs": [
    {
     "name": "stdout",
     "output_type": "stream",
     "text": [
      "The states are correct!\n"
     ]
    }
   ],
   "source": [
    "from qiskit.quantum_info import Statevector\n",
    "def xGateCheck():\n",
    "    circuit = QuantumCircuit(1)\n",
    "    circuit.initialize('1')\n",
    "    circuit.x(0)\n",
    "\n",
    "    circuit2 = QuantumCircuit(1)\n",
    "    circuit2.initialize('1')\n",
    "    circuit2 = xGate(circuit2)\n",
    "\n",
    "    if Statevector(circuit) == Statevector(circuit2):\n",
    "        print(\"The states are correct!\")\n",
    "    else:\n",
    "        print(\"The states are incorrect!\")\n",
    "xGateCheck()"
   ]
  },
  {
   "cell_type": "code",
   "execution_count": null,
   "metadata": {},
   "outputs": [],
   "source": []
  }
 ],
 "metadata": {
  "kernelspec": {
   "display_name": "Python 3",
   "language": "python",
   "name": "python3"
  },
  "language_info": {
   "codemirror_mode": {
    "name": "ipython",
    "version": 3
   },
   "file_extension": ".py",
   "mimetype": "text/x-python",
   "name": "python",
   "nbconvert_exporter": "python",
   "pygments_lexer": "ipython3",
   "version": "3.8.8"
  },
  "vscode": {
   "interpreter": {
    "hash": "52634da84371cba311ea128a5ea7cdc41ff074b781779e754b270ff9f8153cee"
   }
  }
 },
 "nbformat": 4,
 "nbformat_minor": 2
}
