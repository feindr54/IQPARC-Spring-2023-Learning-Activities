{
 "cells": [
  {
   "cell_type": "markdown",
   "metadata": {},
   "source": [
    "# Problem Set - Pauli Gates\n",
    "This particular problem set will teach you about the basics of the applying single qubit gates to a qubit. You also will learn how to apply the Pauli gates to a qubit and how to use the Bloch sphere to visualize the effects of the gates."
   ]
  },
  {
   "cell_type": "markdown",
   "metadata": {},
   "source": [
    "### Start by importing the dependencies"
   ]
  },
  {
   "cell_type": "code",
   "execution_count": 1,
   "metadata": {},
   "outputs": [],
   "source": [
    "from qiskit import *\n",
    "\n",
    "# Import state vector that we will visualize\n",
    "from qiskit.quantum_info import Statevector\n",
    "\n",
    "# We are importing the visualization tools from qiskit\n",
    "from qiskit.visualization import *\n",
    "\n",
    "# We are also importing the math library to use pi and sqrt\n",
    "from math import pi, sqrt"
   ]
  },
  {
   "cell_type": "markdown",
   "metadata": {},
   "source": [
    "### Demo: Bloch Sphere Visualization\n",
    "The simplest way to visualize the various single qubit gate transformation is via the Bloch Sphere. We will be using ```plot_bloch_vector``` to visualize the transformation of the qubit state vector. Because this [function](https://qiskit.org/documentation/stubs/qiskit.visualization.plot_bloch_vector.html) is not part of the ```qiskit``` package, we will need to import it from the ```qiskit.visualization``` module. \n",
    "\n",
    "In the following code block you will see the Bloch Sphere visualization of the initial state vector $|0\\rangle$, which is represented by the point on the equator of the Bloch Sphere. The point is colored red to indicate that it is the initial state vector."
   ]
  },
  {
   "cell_type": "code",
   "execution_count": null,
   "metadata": {},
   "outputs": [],
   "source": [
    "# Initializing the quantum circuit\n",
    "qubit = QuantumRegister(1)\n",
    "circuit = QuantumCircuit(qubit)\n",
    "\n",
    "# Obtaining the statevector\n",
    "state = Statevector(circuit)\n",
    "\n",
    "# Plotting the statevector\n",
    "plot_bloch_multivector(state)"
   ]
  },
  {
   "cell_type": "markdown",
   "metadata": {},
   "source": [
    "### Problem 1: Initialize All State Vectors\n",
    "In the following code block, initialize the state vectors $|0\\rangle$, $|1\\rangle$, $|+\\rangle$, $|-\\rangle$, $|r\\rangle$, and $|l\\rangle$. The state vectors are defined as follows:\n",
    "\n",
    "$$|0\\rangle = \\begin{bmatrix} 1 \\\\ 0 \\end{bmatrix}$$\n",
    "\n",
    "$$|1\\rangle = \\begin{bmatrix} 0 \\\\ 1 \\end{bmatrix}$$\n",
    "\n",
    "$$|+\\rangle = \\frac{1}{\\sqrt{2}}\\begin{bmatrix} 1 \\\\ 1 \\end{bmatrix}$$\n",
    "\n",
    "$$|-\\rangle = \\frac{1}{\\sqrt{2}}\\begin{bmatrix} 1 \\\\ -1 \\end{bmatrix}$$\n",
    "\n",
    "$$|r\\rangle = \\frac{1}{\\sqrt{2}}\\begin{bmatrix} 1 \\\\ i \\end{bmatrix}$$\n",
    "\n",
    "$$|l\\rangle = \\frac{1}{\\sqrt{2}}\\begin{bmatrix} 1 \\\\ -i \\end{bmatrix}$$\n",
    "\n",
    "In plain English, the state vectors are defined as follows:\n",
    "\n",
    "* $|0\\rangle$ is the state vector with the coordinate $(0,0,1)$ on the Bloch Sphere.\n",
    "* $|1\\rangle$ is the state vector with the coordinate $(0,0,-1)$ on the Bloch Sphere.\n",
    "* $|+\\rangle$ is the state vector with the coordinate $(0,1,0)$ on the Bloch Sphere.\n",
    "* $|-\\rangle$ is the state vector with the coordinate $(0,-1,0)$ on the Bloch Sphere.\n",
    "* $|r\\rangle$ is the state vector with the coordinate $(1,0,0)$ on the Bloch Sphere.\n",
    "* $|l\\rangle$ is the state vector with the coordinate $(-1,0,0)$ on the Bloch Sphere.\n",
    "\n",
    "For this problem you will need to initialize a circuit with 6 qubits. You will then need to initialize the state vectors $|0\\rangle$, $|1\\rangle$, $|+\\rangle$, $|-\\rangle$, $|r\\rangle$, and $|l\\rangle$ as the initial state vectors of the qubits. You will need to return the circuit with the initialized state vectors.\n",
    "\n",
    "<br>Input: None\n",
    "<br>Output: A circuit with the state vectors $|0\\rangle$, $|1\\rangle$, $|+\\rangle$, $|-\\rangle$, $|r\\rangle$, and $|l\\rangle$ as the initial state vectors of the qubits."
   ]
  },
  {
   "cell_type": "code",
   "execution_count": 17,
   "metadata": {},
   "outputs": [],
   "source": [
    "def completeCircuit():\n",
    "    # Initializing the quantum circuit\n",
    "    # Initialize the circuit in various states\n",
    "    # Return the circuit"
   ]
  },
  {
   "cell_type": "markdown",
   "metadata": {},
   "source": [
    "### Use the following code block to check your implementation and visualize the Bloch Sphere"
   ]
  },
  {
   "cell_type": "code",
   "execution_count": null,
   "metadata": {},
   "outputs": [],
   "source": [
    "def checkState():\n",
    "    states = Statevector(completeCircuit())\n",
    "    if states == Statevector.from_label('01+-rl'):\n",
    "        print(\"The states are correct!\")\n",
    "    else:\n",
    "        print(\"The states are incorrect.\")\n",
    "\n",
    "checkState()\n",
    "plot_bloch_multivector(Statevector(completeCircuit()))"
   ]
  },
  {
   "cell_type": "markdown",
   "metadata": {},
   "source": [
    "### Remark:\n",
    "There are lot of ways to initialize the state vectors, the bloch sphere visualization is just one way to check your implementation. For the rest of this problem set you will be using the bloch sphere visualization a lot. please use it for debugging."
   ]
  },
  {
   "cell_type": "markdown",
   "metadata": {},
   "source": [
    "### Problem 2: State Vector Transformation\n",
    "For this problem you will be given a qubit in a certain state. Your goal is to transform this qubit into the target state using various Pauli gates. You will need to return the circuit with the Pauli gates applied to the qubit. As a reminder, the single qubit gates are the following:\n",
    "\n",
    "* [$X$ gate](https://qiskit.org/documentation/stubs/qiskit.circuit.library.XGate.html): Rotates the state vector by $\\pi$ radians about the x-axis of the Bloch Sphere.\n",
    "* [$Y$ gate](https://qiskit.org/documentation/stubs/qiskit.circuit.library.YGate.html): Rotates the state vector by $\\pi$ radians about the y-axis of the Bloch Sphere.\n",
    "* [$Z$ gate](https://qiskit.org/documentation/stubs/qiskit.circuit.library.ZGate.html): Rotates the state vector by $\\pi$ radians about the z-axis of the Bloch Sphere.\n",
    "* [$P$ gate](https://qiskit.org/documentation/stubs/qiskit.circuit.library.PhaseGate.html): Rotates the state vector by ϕ radians about the z-axis of the Bloch Sphere.\n",
    "* [$S$ gate](https://qiskit.org/documentation/stubs/qiskit.circuit.library.SGate.html): Rotates the state vector by $\\pi/2$ radians about the z-axis of the Bloch Sphere.\n",
    "* [$T$ gate](https://qiskit.org/documentation/stubs/qiskit.circuit.library.TGate.html): Rotates the state vector by $\\pi/4$ radians about the z-axis of the Bloch Sphere."
   ]
  },
  {
   "cell_type": "markdown",
   "metadata": {},
   "source": [
    "### Problem 2-1\n",
    "Given a circuit containing 1 qubit in the state vector $|1\\rangle$, transform the qubit into the state vector $|0\\rangle$\n",
    "\n",
    "<br>Input: Circuit containing 1 qubit in the state vector $|1\\rangle$\n",
    "<br>Output: Circuit object with transformation applied to the qubit"
   ]
  },
  {
   "cell_type": "code",
   "execution_count": 36,
   "metadata": {},
   "outputs": [],
   "source": [
    "def circuit21(circuit):\n",
    "    # TODO"
   ]
  },
  {
   "cell_type": "markdown",
   "metadata": {},
   "source": [
    "### Use the following code block to check your implementation"
   ]
  },
  {
   "cell_type": "code",
   "execution_count": null,
   "metadata": {},
   "outputs": [],
   "source": [
    "def check21():\n",
    "    qubit = QuantumRegister(1)\n",
    "    circuit = QuantumCircuit(qubit)\n",
    "    circuit.initialize('1', qubit)\n",
    "    circuit = circuit21(circuit)\n",
    "    if Statevector(circuit) == Statevector.from_label('0'):\n",
    "        print(\"The states are correct!\")\n",
    "    else:\n",
    "        print(\"The states are incorrect.\")\n",
    "check21()"
   ]
  },
  {
   "cell_type": "markdown",
   "metadata": {},
   "source": [
    "### Problem 2-2\n",
    "Given a circuit containing 1 qubit in the state vector $|-\\rangle$, transform the qubit into the state vector $|+\\rangle$\n",
    "\n",
    "<br>Input: Circuit containing 1 qubit in the state vector $|-\\rangle$\n",
    "<br>Output: Circuit object with transformation applied to the qubit"
   ]
  },
  {
   "cell_type": "code",
   "execution_count": 19,
   "metadata": {},
   "outputs": [],
   "source": [
    "def circuit22(circuit):\n",
    "    # TODO"
   ]
  },
  {
   "cell_type": "markdown",
   "metadata": {},
   "source": [
    "### Use the following code block to check your implementation"
   ]
  },
  {
   "cell_type": "code",
   "execution_count": null,
   "metadata": {},
   "outputs": [],
   "source": [
    "def check22():\n",
    "    qubit = QuantumRegister(1)\n",
    "    circuit = QuantumCircuit(qubit)\n",
    "    circuit.initialize('-', qubit)\n",
    "    circuit = circuit22(circuit)\n",
    "    if Statevector(circuit) == Statevector.from_label('+'):\n",
    "        print(\"The states are correct!\")\n",
    "    else:\n",
    "        print(\"The states are incorrect.\")\n",
    "check22()"
   ]
  },
  {
   "cell_type": "markdown",
   "metadata": {},
   "source": [
    "### Problem 2-3\n",
    "Given a circuit containing 1 qubit in the state vector $|l\\rangle$, transform the qubit into the state vector $|r\\rangle$\n",
    "\n",
    "<br>Input: Circuit containing 1 qubit in the state vector $|l\\rangle$\n",
    "<br>Output: Circuit object with transformation applied to the qubit"
   ]
  },
  {
   "cell_type": "code",
   "execution_count": 8,
   "metadata": {},
   "outputs": [],
   "source": [
    "def circuit23(circuit):\n",
    "    # TODO"
   ]
  },
  {
   "cell_type": "markdown",
   "metadata": {},
   "source": [
    "### Use the following code block to check your implementation"
   ]
  },
  {
   "cell_type": "code",
   "execution_count": null,
   "metadata": {},
   "outputs": [],
   "source": [
    "def check23():\n",
    "    qubit = QuantumRegister(1)\n",
    "    circuit = QuantumCircuit(qubit)\n",
    "    circuit.initialize('l', qubit)\n",
    "    circuit = circuit23(circuit)\n",
    "    if Statevector(circuit) == Statevector.from_label('r'):\n",
    "        print(\"The states are correct!\")\n",
    "    else:\n",
    "        print(\"The states are incorrect.\")\n",
    "check23()"
   ]
  },
  {
   "cell_type": "markdown",
   "metadata": {},
   "source": [
    "### Problem 2-4\n",
    "Given a circuit containing 1 qubit in the state vector $|r\\rangle$, rotate the qubit by $3\\pi/4$ radians about the z-axis of the Bloch Sphere, **WITHOUT** the use of the $P$ gate.\n",
    "\n",
    "<br>Input: Circuit containing 1 qubit in the state vector $|r\\rangle$\n",
    "<br>Output: Circuit object with transformation applied to the qubit"
   ]
  },
  {
   "cell_type": "code",
   "execution_count": 50,
   "metadata": {},
   "outputs": [],
   "source": [
    "def circuit24(circuit):\n",
    "    # TODO"
   ]
  },
  {
   "cell_type": "markdown",
   "metadata": {},
   "source": [
    "### Use the following code block to check your implementation"
   ]
  },
  {
   "cell_type": "code",
   "execution_count": null,
   "metadata": {},
   "outputs": [],
   "source": [
    "def check24():\n",
    "    circuit = QuantumCircuit(1)\n",
    "    circuit.initialize('r')\n",
    "    circuit = circuit24(circuit)\n",
    "    compCircuit = QuantumCircuit(1)\n",
    "    compCircuit.initialize('r')\n",
    "    compCircuit.p(3*pi/4,0)\n",
    "    if Statevector(circuit) == Statevector(compCircuit):\n",
    "        print(\"The states are correct!\")\n",
    "    else:\n",
    "        print(\"The states are incorrect.\")\n",
    "check24()"
   ]
  }
 ],
 "metadata": {
  "kernelspec": {
   "display_name": "Python 3",
   "language": "python",
   "name": "python3"
  },
  "language_info": {
   "codemirror_mode": {
    "name": "ipython",
    "version": 3
   },
   "file_extension": ".py",
   "mimetype": "text/x-python",
   "name": "python",
   "nbconvert_exporter": "python",
   "pygments_lexer": "ipython3",
   "version": "3.8.8"
  },
  "vscode": {
   "interpreter": {
    "hash": "52634da84371cba311ea128a5ea7cdc41ff074b781779e754b270ff9f8153cee"
   }
  }
 },
 "nbformat": 4,
 "nbformat_minor": 2
}
